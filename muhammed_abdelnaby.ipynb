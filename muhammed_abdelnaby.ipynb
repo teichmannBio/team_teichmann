{
 "cells": [
  {
   "cell_type": "code",
   "execution_count": 1,
   "metadata": {},
   "outputs": [
    {
     "name": "stdout",
     "output_type": "stream",
     "text": [
      "name: muhammed abdelnaby\n",
      "email: muhammed.abdelnaby101@gmail.com \n",
      "biostack name: Drug Development\n",
      "slack username: Muhammed gabry\n"
     ]
    }
   ],
   "source": [
    "name='muhammed abdelnaby'\n",
    "email='muhammed.abdelnaby101@gmail.com'\n",
    "biostack_name='Drug Development'\n",
    "slack_username='Muhammed gabry'\n",
    "print(f\"name: {name}\\nemail: {email} \\nbiostack name: {biostack_name}\\nslack username: {slack_username}\")"
   ]
  },
  {
   "cell_type": "code",
   "execution_count": null,
   "metadata": {},
   "outputs": [],
   "source": []
  }
 ],
 "metadata": {
  "kernelspec": {
   "display_name": "Python 3",
   "language": "python",
   "name": "python3"
  },
  "language_info": {
   "codemirror_mode": {
    "name": "ipython",
    "version": 3
   },
   "file_extension": ".py",
   "mimetype": "text/x-python",
   "name": "python",
   "nbconvert_exporter": "python",
   "pygments_lexer": "ipython3",
   "version": "3.7.4"
  }
 },
 "nbformat": 4,
 "nbformat_minor": 2
}
